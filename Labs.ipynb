{
  "nbformat": 4,
  "nbformat_minor": 0,
  "metadata": {
    "colab": {
      "provenance": [],
      "authorship_tag": "ABX9TyOaEmEsmXDbmVz0Ubc7NW69"
    },
    "kernelspec": {
      "name": "python3",
      "display_name": "Python 3"
    },
    "language_info": {
      "name": "python"
    }
  },
  "cells": [
    {
      "cell_type": "code",
      "execution_count": 6,
      "metadata": {
        "colab": {
          "base_uri": "https://localhost:8080/",
          "height": 96
        },
        "id": "IXloNTDzf7Hh",
        "outputId": "11354f8a-03fa-4731-ed6d-6114169d6d3d"
      },
      "outputs": [
        {
          "output_type": "display_data",
          "data": {
            "text/plain": [
              "     d       \n",
              "-r + ──(P(t))\n",
              "     dt      "
            ],
            "text/latex": "$\\displaystyle - r + \\frac{d}{d t} P{\\left(t \\right)}$"
          },
          "metadata": {}
        },
        {
          "output_type": "display_data",
          "data": {
            "text/plain": [
              "P(t) = C₁ + r⋅t"
            ],
            "text/latex": "$\\displaystyle P{\\left(t \\right)} = C_{1} + r t$"
          },
          "metadata": {}
        },
        {
          "output_type": "display_data",
          "data": {
            "text/plain": [
              "P(t) = C₁ + r⋅t"
            ],
            "text/latex": "$\\displaystyle P{\\left(t \\right)} = C_{1} + r t$"
          },
          "metadata": {}
        }
      ],
      "source": [
        "from sympy import * #Contains\n",
        "init_printing() #enable pretty printing in notebooks\n",
        "\n",
        "C1, t, r = symbols('c , t, r') #\n",
        "P = Function('P')(t) #P(t)\n",
        "Diff_eq = Derivative(P, t, 1) - r #d(p)/dt - r = 0\n",
        "Gen_sol = dsolve(Diff_eq) #Finding general solution of diff_eq using dsolve() - differential solve\n",
        "Par_sol = Gen_sol.subs({C1:2})\n",
        "\n",
        "display(Diff_eq)\n",
        "display(Gen_sol)\n",
        "display(Par_sol)"
      ]
    }
  ]
}